{
 "cells": [
  {
   "cell_type": "markdown",
   "id": "f8e50aa4",
   "metadata": {},
   "source": [
    "#### Import of the Packages"
   ]
  },
  {
   "cell_type": "code",
   "execution_count": 1,
   "id": "221b4cb3",
   "metadata": {},
   "outputs": [
    {
     "data": {
      "text/html": [
       "<details>\n",
       "<summary>Click to view session information</summary>\n",
       "<pre>\n",
       "-----\n",
       "matplotlib          3.4.3\n",
       "numpy               1.22.3\n",
       "session_info        1.0.0\n",
       "torch               2.0.0+cu117\n",
       "torchvision         0.15.1+cu117\n",
       "-----\n",
       "</pre>\n",
       "<details>\n",
       "<summary>Click to view modules imported as dependencies</summary>\n",
       "<pre>\n",
       "PIL                         9.4.0\n",
       "asttokens                   NA\n",
       "backcall                    0.2.0\n",
       "certifi                     2022.12.07\n",
       "cffi                        1.15.1\n",
       "charset_normalizer          3.1.0\n",
       "colorama                    0.4.6\n",
       "comm                        0.1.2\n",
       "cycler                      0.10.0\n",
       "cython_runtime              NA\n",
       "dateutil                    2.8.2\n",
       "debugpy                     1.5.1\n",
       "decorator                   5.1.1\n",
       "defusedxml                  0.7.1\n",
       "entrypoints                 0.4\n",
       "executing                   0.8.3\n",
       "idna                        3.4\n",
       "importlib_metadata          NA\n",
       "ipykernel                   6.19.2\n",
       "ipython_genutils            0.2.0\n",
       "jedi                        0.18.1\n",
       "kiwisolver                  1.4.4\n",
       "matplotlib_inline           0.1.6\n",
       "mpl_toolkits                NA\n",
       "mpmath                      1.2.1\n",
       "nt                          NA\n",
       "ntsecuritycon               NA\n",
       "nvfuser                     NA\n",
       "packaging                   23.0\n",
       "parso                       0.8.3\n",
       "pickleshare                 0.7.5\n",
       "pkg_resources               NA\n",
       "platformdirs                2.5.2\n",
       "prompt_toolkit              3.0.36\n",
       "psutil                      5.9.0\n",
       "pure_eval                   0.2.2\n",
       "pydev_ipython               NA\n",
       "pydevconsole                NA\n",
       "pydevd                      2.6.0\n",
       "pydevd_concurrency_analyser NA\n",
       "pydevd_file_utils           NA\n",
       "pydevd_plugins              NA\n",
       "pydevd_tracing              NA\n",
       "pygments                    2.11.2\n",
       "pyparsing                   3.0.9\n",
       "pythoncom                   NA\n",
       "pywintypes                  NA\n",
       "requests                    2.28.2\n",
       "setuptools                  65.6.3\n",
       "six                         1.16.0\n",
       "stack_data                  0.2.0\n",
       "sympy                       1.11.1\n",
       "tornado                     6.2\n",
       "tqdm                        4.65.0\n",
       "traitlets                   5.7.1\n",
       "typing_extensions           NA\n",
       "urllib3                     1.26.15\n",
       "wcwidth                     0.2.5\n",
       "win32api                    NA\n",
       "win32com                    NA\n",
       "win32security               NA\n",
       "zipp                        NA\n",
       "zmq                         23.2.0\n",
       "</pre>\n",
       "</details> <!-- seems like this ends pre, so might as well be explicit -->\n",
       "<pre>\n",
       "-----\n",
       "IPython             8.10.0\n",
       "jupyter_client      7.4.9\n",
       "jupyter_core        5.2.0\n",
       "notebook            6.5.2\n",
       "-----\n",
       "Python 3.9.16 (main, Mar  8 2023, 10:39:24) [MSC v.1916 64 bit (AMD64)]\n",
       "Windows-10-10.0.22621-SP0\n",
       "-----\n",
       "Session information updated at 2023-05-05 13:55\n",
       "</pre>\n",
       "</details>"
      ],
      "text/plain": [
       "<IPython.core.display.HTML object>"
      ]
     },
     "execution_count": 1,
     "metadata": {},
     "output_type": "execute_result"
    }
   ],
   "source": [
    "import torch\n",
    "import torch.nn as nn\n",
    "import torch.functional as F\n",
    "import numpy as np\n",
    "import session_info\n",
    "\n",
    "# more packages\n",
    "import torchvision\n",
    "import torchvision.transforms as transforms\n",
    "import matplotlib.pyplot as plt\n",
    "session_info.show()"
   ]
  },
  {
   "cell_type": "markdown",
   "id": "a26d2f0c",
   "metadata": {},
   "source": [
    "##### Softmax activation for numpy"
   ]
  },
  {
   "cell_type": "code",
   "execution_count": 2,
   "id": "eead2b06",
   "metadata": {},
   "outputs": [
    {
     "name": "stdout",
     "output_type": "stream",
     "text": [
      "softmax: [0.65900114 0.24243297 0.09856589]\n"
     ]
    }
   ],
   "source": [
    "def softmax(x):\n",
    "    return np.exp(x)/np.sum(np.exp(x), axis=0)\n",
    "x= np.array([2.0,1.0,0.1])\n",
    "outputs= softmax(x)\n",
    "print(f'softmax: {outputs}')"
   ]
  },
  {
   "cell_type": "markdown",
   "id": "7eb88e1c",
   "metadata": {},
   "source": [
    "##### Softmax activation for pytorch"
   ]
  },
  {
   "cell_type": "code",
   "execution_count": 3,
   "id": "b50ff53f",
   "metadata": {},
   "outputs": [
    {
     "name": "stdout",
     "output_type": "stream",
     "text": [
      "softmax_torch: tensor([0.6590, 0.2424, 0.0986])\n"
     ]
    }
   ],
   "source": [
    "x= torch.tensor([2.0,1.0,0.1])\n",
    "outputs= torch.softmax(x,dim=0)# already implement in torch\n",
    "print(f'softmax_torch: {outputs}')"
   ]
  },
  {
   "cell_type": "markdown",
   "id": "d7153301",
   "metadata": {},
   "source": [
    "##### For multiclass classification"
   ]
  },
  {
   "cell_type": "code",
   "execution_count": 4,
   "id": "bc7c59f3",
   "metadata": {},
   "outputs": [
    {
     "name": "stdout",
     "output_type": "stream",
     "text": [
      "Loss1 numpy: 0.36\n",
      "Loss2 numpy: 1.61\n"
     ]
    }
   ],
   "source": [
    "# Cross-entropy loss is often associated with softmax activation for multiclass problems\n",
    "#In numpy\n",
    "def cross_entropy(true,predicted):\n",
    "    loss = -np.sum(true *np.log(predicted))\n",
    "    return loss # / float(predicted.shape[0]) ##if we want to normalize, we divide by the number of sample\n",
    "\n",
    "Y= np.array([1,0,0]) # True value of Y as a one-hot encode result\n",
    "y_pred_good =np.array([0.7,0.2,0.1])\n",
    "y_pred_bad =np.array([0.2,0.3,0.5])\n",
    "l1= cross_entropy(Y,y_pred_good)\n",
    "l2= cross_entropy(Y,y_pred_bad)\n",
    "print(f'Loss1 numpy: {l1:.2f}')\n",
    "print(f'Loss2 numpy: {l2:.2f}')"
   ]
  },
  {
   "cell_type": "code",
   "execution_count": 5,
   "id": "14cc1c79",
   "metadata": {},
   "outputs": [
    {
     "name": "stdout",
     "output_type": "stream",
     "text": [
      "Loss1 torch: 0.42\n",
      "Loss2 torch: 1.74\n"
     ]
    }
   ],
   "source": [
    "# In pytorch for one sample\n",
    "loss=nn.CrossEntropyLoss() #note that softmax is include in it, no need a softmax activation as last layer\n",
    "\n",
    "Y= torch.tensor([0])# the good class is the first one\n",
    "\n",
    "y_pred_good =torch.tensor([[2.0,1.0,0.1]])\n",
    "y_pred_bad =torch.tensor([[0.6,2.0,0.2]])\n",
    "l1= loss(y_pred_good,Y)\n",
    "l2= loss(y_pred_bad,Y)\n",
    "\n",
    "print(f'Loss1 torch: {l1.item():.2f}')\n",
    "print(f'Loss2 torch: {l2.item():.2f}')"
   ]
  },
  {
   "cell_type": "code",
   "execution_count": 6,
   "id": "204e09de",
   "metadata": {},
   "outputs": [
    {
     "name": "stdout",
     "output_type": "stream",
     "text": [
      "Loss1 torch: 0.43\n",
      "Loss2 torch: 2.19\n"
     ]
    }
   ],
   "source": [
    "# In pytorch for multiple samples\n",
    "\n",
    "Y= torch.tensor([2,0,1])\n",
    "\n",
    "y_pred_good =torch.tensor([[0.5,1.0,2.0],[2.0,1.0,0.1],[1.0,2.0,0.1]])\n",
    "y_pred_bad =torch.tensor([[0.6,2.0,0.2],[1.0,5.0,2.1],[0.6,2.0,0.2]])\n",
    "l1= loss(y_pred_good,Y)\n",
    "l2= loss(y_pred_bad,Y)\n",
    "\n",
    "print(f'Loss1 torch: {l1.item():.2f}')\n",
    "print(f'Loss2 torch: {l2.item():.2f}')"
   ]
  },
  {
   "cell_type": "markdown",
   "id": "aa7fbe43",
   "metadata": {},
   "source": [
    "### Activation Function"
   ]
  },
  {
   "cell_type": "code",
   "execution_count": 7,
   "id": "0ddecc1c",
   "metadata": {},
   "outputs": [],
   "source": [
    "# include in a create nn.Module(in the init def)\n",
    "class NeuNet(nn.Module):\n",
    "    def __init__(self,input_size,hidden_size):\n",
    "        super(NeuNet,self).__init__()\n",
    "        self.linear1= nn.Linear(input_size,hidden_size)\n",
    "        self.relu= nn.ReLU()\n",
    "        self.linear2= nn.Linear(hidden_size,1)\n",
    "        self.sigmoid= nn.Sigmoid()\n",
    "        \n",
    "    def forward(self,inputs):\n",
    "        x= self.linear1(inputs)\n",
    "        x= self.relu(x)\n",
    "        x= self.linear2(x)\n",
    "        outputs= self.sigmoid(x)\n",
    "        return outputs\n",
    "        "
   ]
  },
  {
   "cell_type": "code",
   "execution_count": 8,
   "id": "34351993",
   "metadata": {},
   "outputs": [],
   "source": [
    "# Put the activation only in the forward pass\n",
    "class NeuNet_2(nn.Module):\n",
    "    def __init__(self,input_size,hidden_size):\n",
    "        super(NeuNet_2,self).__init__()\n",
    "        self.linear1= nn.Linear(input_size,hidden_size)\n",
    "        self.linear2= nn.Linear(hidden_size,1)\n",
    "        \n",
    "    def forward(self,inputs):\n",
    "        x= torch.relu(self.linear1(inputs))\n",
    "        outputs= torch.sigmoid(self.linear2(x))\n",
    "        return outputs"
   ]
  },
  {
   "cell_type": "markdown",
   "id": "1adc871d",
   "metadata": {},
   "source": [
    "### Implement a first neural network for MNIST  "
   ]
  },
  {
   "cell_type": "code",
   "execution_count": 9,
   "id": "1075e01f",
   "metadata": {},
   "outputs": [],
   "source": [
    "# Use graphical card\n",
    "device= torch.device('cuda' if torch.cuda.is_available() else 'cpu')\n",
    "\n",
    "# define hyperparameters\n",
    "input_size= 28*28 # images of MNIST are under this format in gray(one channel)\n",
    "hidden_size= 200\n",
    "num_class = 10 # from 0 to 9\n",
    "num_epochs=5\n",
    "batch_size= 40\n",
    "learning_rate = 0.001"
   ]
  },
  {
   "cell_type": "code",
   "execution_count": 10,
   "id": "3efe6e6a",
   "metadata": {},
   "outputs": [],
   "source": [
    "data_train=torchvision.datasets.MNIST(root='/data',train=True, transform=transforms.ToTensor(),download=True)\n",
    "data_test=torchvision.datasets.MNIST(root='/data',train=False, transform=transforms.ToTensor(),download=True)"
   ]
  },
  {
   "cell_type": "code",
   "execution_count": 11,
   "id": "c2d4843a",
   "metadata": {},
   "outputs": [],
   "source": [
    "loader_train= torch.utils.data.DataLoader(dataset= data_train,batch_size=batch_size, shuffle=True)\n",
    "loader_test= torch.utils.data.DataLoader(dataset= data_test,batch_size=batch_size, shuffle=False)"
   ]
  },
  {
   "cell_type": "code",
   "execution_count": 12,
   "id": "44a79672",
   "metadata": {},
   "outputs": [
    {
     "name": "stdout",
     "output_type": "stream",
     "text": [
      "torch.Size([40, 1, 28, 28])\n"
     ]
    },
    {
     "data": {
      "image/png": "[encoded data removed]",
      "text/plain": [
       "<Figure size 640x480 with 8 Axes>"
      ]
     },
     "metadata": {},
     "output_type": "display_data"
    }
   ],
   "source": [
    "exemples= next(iter(loader_train))\n",
    "data,target= exemples\n",
    "print (data.shape)\n",
    "for i in range(8):\n",
    "    plt.subplot(2,4, i+1)\n",
    "    plt.imshow(data[i][0], cmap='gray')\n",
    "plt.show()"
   ]
  },
  {
   "cell_type": "markdown",
   "id": "6f068af7",
   "metadata": {},
   "source": [
    "#### Model"
   ]
  },
  {
   "cell_type": "code",
   "execution_count": 13,
   "id": "e2f278be",
   "metadata": {},
   "outputs": [],
   "source": [
    "class MNISTNet(nn.Module):\n",
    "    def __init__(self,input_size,hidden_size, num_classes):\n",
    "        super(MNISTNet,self).__init__()\n",
    "        self.linear1= nn.Linear(input_size,hidden_size)\n",
    "        self.linear2= nn.Linear(hidden_size,num_classes)\n",
    "    def forward(self,inputs):\n",
    "        x= torch.relu(self.linear1(inputs))\n",
    "        outputs= self.linear2(x)\n",
    "        # no softmax because Cross entropy Loss\n",
    "        return outputs\n",
    "model= MNISTNet(input_size,hidden_size,num_class).to(device)"
   ]
  },
  {
   "cell_type": "markdown",
   "id": "e9c8734f",
   "metadata": {},
   "source": [
    "#### Loss and Optimizer"
   ]
  },
  {
   "cell_type": "code",
   "execution_count": 14,
   "id": "6fc6c6e7",
   "metadata": {},
   "outputs": [],
   "source": [
    "criterion= nn.CrossEntropyLoss()\n",
    "optimizer= torch.optim.Adam(model.parameters(), lr =learning_rate)"
   ]
  },
  {
   "cell_type": "markdown",
   "id": "6739d210",
   "metadata": {},
   "source": [
    "#### Training loop"
   ]
  },
  {
   "cell_type": "code",
   "execution_count": 15,
   "id": "db4ec776",
   "metadata": {},
   "outputs": [
    {
     "name": "stdout",
     "output_type": "stream",
     "text": [
      "epoch 1/5, loss = 0.347\n",
      "epoch 2/5, loss = 0.111\n",
      "epoch 3/5, loss = 0.048\n",
      "epoch 4/5, loss = 0.057\n",
      "epoch 5/5, loss = 0.075\n"
     ]
    }
   ],
   "source": [
    "#Train\n",
    "for epoch in range(num_epochs):\n",
    "    for i,(images,labels) in enumerate (loader_train):\n",
    "        # first we reshape the image (40,1,28,28) to (40,728) and push it on the GPU\n",
    "        image= images.reshape(-1,28*28).to(device)\n",
    "        labels= labels.to(device)\n",
    "        \n",
    "        #forward\n",
    "        outputs=model(image)\n",
    "        loss= criterion(outputs,labels)\n",
    "        \n",
    "        #backward\n",
    "        loss.backward()\n",
    "        optimizer.step()\n",
    "        optimizer.zero_grad()\n",
    "        \n",
    "    print (f'epoch {epoch+1}/{num_epochs}, loss = {loss:.3f}')"
   ]
  },
  {
   "cell_type": "code",
   "execution_count": 16,
   "id": "0a131822",
   "metadata": {},
   "outputs": [
    {
     "name": "stdout",
     "output_type": "stream",
     "text": [
      "Accuracy= 97.7\n"
     ]
    }
   ],
   "source": [
    "# Test        \n",
    "with torch.no_grad():\n",
    "    n_correct=0\n",
    "    n_samples=0\n",
    "    for images, labels in loader_test:\n",
    "        images= images.reshape(-1,28*28).to(device)\n",
    "        labels= labels.to(device)\n",
    "        outputs = model(images)\n",
    "\n",
    "        # return value and index of the best class\n",
    "        _,predictions= torch.max(outputs,1)\n",
    "        n_samples += labels.shape[0]\n",
    "        n_correct += (predictions == labels).sum().item()\n",
    "    acc= 100 * n_correct /n_samples\n",
    "    print(f'Accuracy= {acc:.1f}')"
   ]
  }
 ],
 "metadata": {
  "kernelspec": {
   "display_name": "Python 3 (ipykernel)",
   "language": "python",
   "name": "python3"
  },
  "language_info": {
   "codemirror_mode": {
    "name": "ipython",
    "version": 3
   },
   "file_extension": ".py",
   "mimetype": "text/x-python",
   "name": "python",
   "nbconvert_exporter": "python",
   "pygments_lexer": "ipython3",
   "version": "3.9.16"
  }
 },
 "nbformat": 4,
 "nbformat_minor": 5
}
