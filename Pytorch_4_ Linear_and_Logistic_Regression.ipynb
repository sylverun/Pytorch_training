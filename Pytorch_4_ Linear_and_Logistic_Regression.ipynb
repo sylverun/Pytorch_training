{
 "cells": [
  {
   "cell_type": "markdown",
   "id": "2898815f",
   "metadata": {},
   "source": [
    "#### Import of the Packages"
   ]
  },
  {
   "cell_type": "code",
   "execution_count": 1,
   "id": "9a3f94fe",
   "metadata": {},
   "outputs": [
    {
     "data": {
      "text/html": [
       "<details>\n",
       "<summary>Click to view session information</summary>\n",
       "<pre>\n",
       "-----\n",
       "matplotlib          3.4.3\n",
       "numpy               1.22.3\n",
       "session_info        1.0.0\n",
       "sklearn             1.2.2\n",
       "torch               2.0.0+cu117\n",
       "-----\n",
       "</pre>\n",
       "<details>\n",
       "<summary>Click to view modules imported as dependencies</summary>\n",
       "<pre>\n",
       "PIL                         9.4.0\n",
       "asttokens                   NA\n",
       "backcall                    0.2.0\n",
       "cffi                        1.15.1\n",
       "colorama                    0.4.6\n",
       "comm                        0.1.2\n",
       "cycler                      0.10.0\n",
       "cython_runtime              NA\n",
       "dateutil                    2.8.2\n",
       "debugpy                     1.5.1\n",
       "decorator                   5.1.1\n",
       "defusedxml                  0.7.1\n",
       "entrypoints                 0.4\n",
       "executing                   0.8.3\n",
       "importlib_metadata          NA\n",
       "ipykernel                   6.19.2\n",
       "ipython_genutils            0.2.0\n",
       "jedi                        0.18.1\n",
       "joblib                      1.2.0\n",
       "kiwisolver                  1.4.4\n",
       "matplotlib_inline           0.1.6\n",
       "mpl_toolkits                NA\n",
       "mpmath                      1.2.1\n",
       "nt                          NA\n",
       "ntsecuritycon               NA\n",
       "nvfuser                     NA\n",
       "packaging                   23.0\n",
       "parso                       0.8.3\n",
       "pickleshare                 0.7.5\n",
       "pkg_resources               NA\n",
       "platformdirs                2.5.2\n",
       "prompt_toolkit              3.0.36\n",
       "psutil                      5.9.0\n",
       "pure_eval                   0.2.2\n",
       "pydev_ipython               NA\n",
       "pydevconsole                NA\n",
       "pydevd                      2.6.0\n",
       "pydevd_concurrency_analyser NA\n",
       "pydevd_file_utils           NA\n",
       "pydevd_plugins              NA\n",
       "pydevd_tracing              NA\n",
       "pygments                    2.11.2\n",
       "pyparsing                   3.0.9\n",
       "pythoncom                   NA\n",
       "pywintypes                  NA\n",
       "scipy                       1.10.1\n",
       "setuptools                  65.6.3\n",
       "six                         1.16.0\n",
       "stack_data                  0.2.0\n",
       "sympy                       1.11.1\n",
       "threadpoolctl               3.1.0\n",
       "tornado                     6.2\n",
       "tqdm                        4.65.0\n",
       "traitlets                   5.7.1\n",
       "typing_extensions           NA\n",
       "wcwidth                     0.2.5\n",
       "win32api                    NA\n",
       "win32com                    NA\n",
       "win32security               NA\n",
       "zipp                        NA\n",
       "zmq                         23.2.0\n",
       "</pre>\n",
       "</details> <!-- seems like this ends pre, so might as well be explicit -->\n",
       "<pre>\n",
       "-----\n",
       "IPython             8.10.0\n",
       "jupyter_client      7.4.9\n",
       "jupyter_core        5.2.0\n",
       "notebook            6.5.2\n",
       "-----\n",
       "Python 3.9.16 (main, Mar  8 2023, 10:39:24) [MSC v.1916 64 bit (AMD64)]\n",
       "Windows-10-10.0.22621-SP0\n",
       "-----\n",
       "Session information updated at 2023-05-02 13:39\n",
       "</pre>\n",
       "</details>"
      ],
      "text/plain": [
       "<IPython.core.display.HTML object>"
      ]
     },
     "execution_count": 1,
     "metadata": {},
     "output_type": "execute_result"
    }
   ],
   "source": [
    "# for Linear regression \n",
    "import torch\n",
    "import torch.nn as nn\n",
    "import numpy as np\n",
    "import session_info\n",
    "from sklearn import datasets\n",
    "import matplotlib.pyplot as plt\n",
    "\n",
    "# plus for Logistic regression \n",
    "from sklearn.preprocessing import StandardScaler\n",
    "from sklearn.model_selection import train_test_split\n",
    "\n",
    "session_info.show()"
   ]
  },
  {
   "cell_type": "markdown",
   "id": "726f8c26",
   "metadata": {},
   "source": [
    "### Linear Regression"
   ]
  },
  {
   "cell_type": "markdown",
   "id": "838c2f96",
   "metadata": {},
   "source": [
    "##### Preparation of data"
   ]
  },
  {
   "cell_type": "code",
   "execution_count": 2,
   "id": "a7e86ce8",
   "metadata": {},
   "outputs": [],
   "source": [
    "X_numpy , y_numpy = datasets.make_regression(n_samples= 220, n_features=1, noise=10, random_state=5)\n",
    "\n",
    "X= torch.from_numpy(X_numpy.astype(np.float32))\n",
    "y= torch.from_numpy(y_numpy.astype(np.float32))\n",
    "\n",
    "n_samples,n_features = X.shape\n",
    "y= y.view(y.shape[0],1)\n"
   ]
  },
  {
   "cell_type": "markdown",
   "id": "f57cb4f3",
   "metadata": {},
   "source": [
    "##### Model"
   ]
  },
  {
   "cell_type": "code",
   "execution_count": 3,
   "id": "26936241",
   "metadata": {},
   "outputs": [],
   "source": [
    "input_shape= n_features\n",
    "output_shape= 1\n",
    "\n",
    "model=nn.Linear(input_shape,output_shape)"
   ]
  },
  {
   "cell_type": "markdown",
   "id": "f6e945c7",
   "metadata": {},
   "source": [
    "###### Loss and optimizer"
   ]
  },
  {
   "cell_type": "code",
   "execution_count": 4,
   "id": "87674a07",
   "metadata": {},
   "outputs": [],
   "source": [
    "loss= nn.MSELoss()\n",
    "learning_rate= 0.01\n",
    "optimizer= torch.optim.SGD(model.parameters(),lr=learning_rate)"
   ]
  },
  {
   "cell_type": "markdown",
   "id": "aab04d7d",
   "metadata": {},
   "source": [
    "##### Training loop"
   ]
  },
  {
   "cell_type": "code",
   "execution_count": 5,
   "id": "cfe88d14",
   "metadata": {},
   "outputs": [
    {
     "name": "stdout",
     "output_type": "stream",
     "text": [
      "epoch10: w = 1.101, loss = 141.53901672\n",
      "epoch20: w = 2.394, loss = 124.23297882\n",
      "epoch30: w = 3.458, loss = 112.52770233\n",
      "epoch40: w = 4.333, loss = 104.60917664\n",
      "epoch50: w = 5.053, loss = 99.25141144\n",
      "epoch60: w = 5.645, loss = 95.62565613\n",
      "epoch70: w = 6.131, loss = 93.17159271\n",
      "epoch80: w = 6.532, loss = 91.51027679\n",
      "epoch90: w = 6.861, loss = 90.38545990\n",
      "epoch100: w = 7.132, loss = 89.62374115\n",
      "epoch110: w = 7.354, loss = 89.10784149\n",
      "epoch120: w = 7.538, loss = 88.75836182\n",
      "epoch130: w = 7.688, loss = 88.52159119\n",
      "epoch140: w = 7.812, loss = 88.36115265\n",
      "epoch150: w = 7.914, loss = 88.25242615\n",
      "epoch160: w = 7.998, loss = 88.17872620\n",
      "epoch170: w = 8.067, loss = 88.12875366\n",
      "epoch180: w = 8.124, loss = 88.09488678\n",
      "epoch190: w = 8.171, loss = 88.07192230\n",
      "epoch200: w = 8.209, loss = 88.05633545\n"
     ]
    }
   ],
   "source": [
    "n_iters= 200\n",
    "for epoch in range(n_iters):\n",
    "    # forward pass\n",
    "    y_pred= model(X)\n",
    "    l=loss(y_pred, y)\n",
    "    \n",
    "    #backward pass\n",
    "    l.backward()\n",
    "    \n",
    "    #update weights\n",
    "    optimizer.step()\n",
    "    optimizer.zero_grad()\n",
    "    \n",
    "    #print info\n",
    "    if (epoch+1) %10 == 0:\n",
    "        [w,b] = model.parameters()\n",
    "        print(f'epoch{epoch+1}: w = {w[0][0].item():.3f}, loss = {l:.8f}')\n"
   ]
  },
  {
   "cell_type": "markdown",
   "id": "4e33e80e",
   "metadata": {},
   "source": [
    "##### Plot some result and history"
   ]
  },
  {
   "cell_type": "code",
   "execution_count": 6,
   "id": "0ac36126",
   "metadata": {},
   "outputs": [
    {
     "data": {
      "image/png": "[encoded data removed]",
      "text/plain": [
       "<Figure size 640x480 with 1 Axes>"
      ]
     },
     "metadata": {},
     "output_type": "display_data"
    }
   ],
   "source": [
    "predicted = model(X).detach().numpy() # we detach the result tensor to avoid the track of the gradient\n",
    "plt.plot(X_numpy,y_numpy,'ro')\n",
    "plt.plot(X_numpy, predicted,'b')\n",
    "plt.show()"
   ]
  },
  {
   "cell_type": "markdown",
   "id": "a5e6c2e8",
   "metadata": {},
   "source": [
    "### Logistic Regression"
   ]
  },
  {
   "cell_type": "markdown",
   "id": "5e7f96e9",
   "metadata": {},
   "source": [
    "##### Preparation of data (breast cancer prediction)"
   ]
  },
  {
   "cell_type": "code",
   "execution_count": 7,
   "id": "fc8c5da0",
   "metadata": {},
   "outputs": [],
   "source": [
    "bc=datasets.load_breast_cancer()\n",
    "X,y= bc.data, bc.target\n",
    "\n",
    "n_sample, n_feature = X.shape\n",
    "\n",
    "# train/test split\n",
    "X_train,X_test, y_train,y_test = train_test_split(X,y, test_size= 0.2, random_state= 25)\n",
    "\n",
    "# Normalization\n",
    "sc= StandardScaler()\n",
    "X_train=sc.fit_transform(X_train)\n",
    "X_test=sc.transform(X_test)"
   ]
  },
  {
   "cell_type": "code",
   "execution_count": 8,
   "id": "b5cbbee7",
   "metadata": {},
   "outputs": [],
   "source": [
    "# Conversion to tensors\n",
    "X_train = torch.from_numpy(X_train.astype(np.float32))\n",
    "X_test = torch.from_numpy(X_test.astype(np.float32))\n",
    "y_test = torch.from_numpy(y_test.astype(np.float32))\n",
    "y_train = torch.from_numpy(y_train.astype(np.float32))\n",
    "\n",
    "y_train = y_train.view(y_train.shape[0],1)\n",
    "y_test = y_test.view(y_test.shape[0],1)"
   ]
  },
  {
   "cell_type": "markdown",
   "id": "d3003387",
   "metadata": {},
   "source": [
    "##### Model"
   ]
  },
  {
   "cell_type": "code",
   "execution_count": 9,
   "id": "66293ecb",
   "metadata": {},
   "outputs": [],
   "source": [
    "class LogisticReg(nn.Module):\n",
    "    def __init__(self, n_input_feature):\n",
    "        super(LogisticReg,self).__init__()\n",
    "        self.linear1= nn.Linear(n_input_feature,10)\n",
    "        self.linear2= nn.Linear(10,1)\n",
    "        \n",
    "    def forward(self, x):\n",
    "        x=self.linear1(x)\n",
    "        x= nn.functional.relu(x)\n",
    "        x= self.linear2(x)\n",
    "        output= torch.sigmoid(x)\n",
    "        return output\n",
    "\n",
    "model= LogisticReg(n_feature)       "
   ]
  },
  {
   "cell_type": "markdown",
   "id": "a091405f",
   "metadata": {},
   "source": [
    "###### Loss and optimizer"
   ]
  },
  {
   "cell_type": "code",
   "execution_count": 10,
   "id": "679cb3b4",
   "metadata": {},
   "outputs": [],
   "source": [
    "loss= nn.BCELoss()\n",
    "learning_rate= 0.1\n",
    "optimizer= torch.optim.SGD(model.parameters(),lr=learning_rate)"
   ]
  },
  {
   "cell_type": "markdown",
   "id": "c201e942",
   "metadata": {},
   "source": [
    "##### Training loop"
   ]
  },
  {
   "cell_type": "code",
   "execution_count": 11,
   "id": "7f889269",
   "metadata": {},
   "outputs": [
    {
     "name": "stdout",
     "output_type": "stream",
     "text": [
      "epoch:20, loss = 0.36816150, train_accuracy= 0.9385\n",
      "epoch:40, loss = 0.20126696, train_accuracy= 0.9495\n",
      "epoch:60, loss = 0.14216712, train_accuracy= 0.9670\n",
      "epoch:80, loss = 0.11261605, train_accuracy= 0.9714\n",
      "epoch:100, loss = 0.09428540, train_accuracy= 0.9736\n",
      "epoch:120, loss = 0.08244862, train_accuracy= 0.9758\n",
      "epoch:140, loss = 0.07437917, train_accuracy= 0.9780\n",
      "epoch:160, loss = 0.06820121, train_accuracy= 0.9824\n",
      "epoch:180, loss = 0.06335497, train_accuracy= 0.9868\n",
      "epoch:200, loss = 0.05957436, train_accuracy= 0.9868\n",
      "test_accuracy= 0.9737\n"
     ]
    }
   ],
   "source": [
    "n_iters= 200\n",
    "for epoch in range(n_iters):\n",
    "    # forward pass\n",
    "    y_pred= model(X_train)\n",
    "    l=loss(y_pred, y_train)\n",
    "    \n",
    "    #backward pass\n",
    "    l.backward()\n",
    "    \n",
    "    #update weights\n",
    "    optimizer.step()\n",
    "    optimizer.zero_grad()\n",
    "    \n",
    "    #print info\n",
    "    if (epoch+1) %20 == 0:\n",
    "        with torch.no_grad():\n",
    "            y_pred_class= y_pred.round()\n",
    "            acc= y_pred_class.eq(y_train).sum()/ float(y_train.shape[0])\n",
    "        print(f'epoch:{epoch+1}, loss = {l:.8f}, train_accuracy= {acc:.4f}')\n",
    "\n",
    "with torch.no_grad():\n",
    "    y_predicted= model(X_test)\n",
    "    y_predicted_class= y_predicted.round()\n",
    "    acc= y_predicted_class.eq(y_test).sum()/ float(y_test.shape[0])\n",
    "    print(f'test_accuracy= {acc:.4f}')\n"
   ]
  },
  {
   "cell_type": "code",
   "execution_count": null,
   "id": "608025c5",
   "metadata": {},
   "outputs": [],
   "source": []
  }
 ],
 "metadata": {
  "kernelspec": {
   "display_name": "Python 3 (ipykernel)",
   "language": "python",
   "name": "python3"
  },
  "language_info": {
   "codemirror_mode": {
    "name": "ipython",
    "version": 3
   },
   "file_extension": ".py",
   "mimetype": "text/x-python",
   "name": "python",
   "nbconvert_exporter": "python",
   "pygments_lexer": "ipython3",
   "version": "3.9.16"
  }
 },
 "nbformat": 4,
 "nbformat_minor": 5
}
