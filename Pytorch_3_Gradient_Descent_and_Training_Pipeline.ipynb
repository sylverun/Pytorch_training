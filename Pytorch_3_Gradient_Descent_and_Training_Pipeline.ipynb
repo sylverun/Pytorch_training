{
 "cells": [
  {
   "cell_type": "markdown",
   "id": "420b1518",
   "metadata": {},
   "source": [
    "#### Import of the Packages"
   ]
  },
  {
   "cell_type": "code",
   "execution_count": 1,
   "id": "24d76116",
   "metadata": {},
   "outputs": [
    {
     "data": {
      "text/html": [
       "<details>\n",
       "<summary>Click to view session information</summary>\n",
       "<pre>\n",
       "-----\n",
       "numpy               1.22.3\n",
       "session_info        1.0.0\n",
       "torch               2.0.0+cu117\n",
       "-----\n",
       "</pre>\n",
       "<details>\n",
       "<summary>Click to view modules imported as dependencies</summary>\n",
       "<pre>\n",
       "asttokens                   NA\n",
       "backcall                    0.2.0\n",
       "colorama                    0.4.6\n",
       "comm                        0.1.2\n",
       "cython_runtime              NA\n",
       "dateutil                    2.8.2\n",
       "debugpy                     1.5.1\n",
       "decorator                   5.1.1\n",
       "entrypoints                 0.4\n",
       "executing                   0.8.3\n",
       "ipykernel                   6.19.2\n",
       "ipython_genutils            0.2.0\n",
       "jedi                        0.18.1\n",
       "mpl_toolkits                NA\n",
       "mpmath                      1.2.1\n",
       "nt                          NA\n",
       "ntsecuritycon               NA\n",
       "nvfuser                     NA\n",
       "packaging                   23.0\n",
       "parso                       0.8.3\n",
       "pickleshare                 0.7.5\n",
       "pkg_resources               NA\n",
       "platformdirs                2.5.2\n",
       "prompt_toolkit              3.0.36\n",
       "psutil                      5.9.0\n",
       "pure_eval                   0.2.2\n",
       "pydev_ipython               NA\n",
       "pydevconsole                NA\n",
       "pydevd                      2.6.0\n",
       "pydevd_concurrency_analyser NA\n",
       "pydevd_file_utils           NA\n",
       "pydevd_plugins              NA\n",
       "pydevd_tracing              NA\n",
       "pygments                    2.11.2\n",
       "pythoncom                   NA\n",
       "pywintypes                  NA\n",
       "six                         1.16.0\n",
       "stack_data                  0.2.0\n",
       "sympy                       1.11.1\n",
       "tornado                     6.2\n",
       "tqdm                        4.65.0\n",
       "traitlets                   5.7.1\n",
       "typing_extensions           NA\n",
       "wcwidth                     0.2.5\n",
       "win32api                    NA\n",
       "win32com                    NA\n",
       "win32security               NA\n",
       "zmq                         23.2.0\n",
       "</pre>\n",
       "</details> <!-- seems like this ends pre, so might as well be explicit -->\n",
       "<pre>\n",
       "-----\n",
       "IPython             8.10.0\n",
       "jupyter_client      7.4.9\n",
       "jupyter_core        5.2.0\n",
       "notebook            6.5.2\n",
       "-----\n",
       "Python 3.9.16 (main, Mar  8 2023, 10:39:24) [MSC v.1916 64 bit (AMD64)]\n",
       "Windows-10-10.0.22621-SP0\n",
       "-----\n",
       "Session information updated at 2023-05-09 10:44\n",
       "</pre>\n",
       "</details>"
      ],
      "text/plain": [
       "<IPython.core.display.HTML object>"
      ]
     },
     "execution_count": 1,
     "metadata": {},
     "output_type": "execute_result"
    }
   ],
   "source": [
    "import torch\n",
    "import torch.nn as nn\n",
    "import numpy as np\n",
    "import session_info\n",
    "session_info.show()"
   ]
  },
  {
   "cell_type": "markdown",
   "id": "a2912334",
   "metadata": {},
   "source": [
    "##### Make everything manually to predict the double of a number"
   ]
  },
  {
   "cell_type": "code",
   "execution_count": 2,
   "id": "affdeee6",
   "metadata": {},
   "outputs": [
    {
     "name": "stdout",
     "output_type": "stream",
     "text": [
      "Prediction before training: f(5)=0.000\n",
      "epoch10: w = 1.606, loss = 1.60939264\n",
      "epoch20: w = 1.922, loss = 0.06237932\n",
      "epoch30: w = 1.985, loss = 0.00241778\n",
      "epoch40: w = 1.997, loss = 0.00009371\n",
      "epoch50: w = 1.999, loss = 0.00000363\n",
      "epoch60: w = 2.000, loss = 0.00000014\n",
      "epoch70: w = 2.000, loss = 0.00000001\n",
      "epoch80: w = 2.000, loss = 0.00000000\n",
      "epoch90: w = 2.000, loss = 0.00000000\n",
      "epoch100: w = 2.000, loss = 0.00000000\n",
      "Prediction after training: f(5)=10.000\n"
     ]
    }
   ],
   "source": [
    "X= np.array([1,2,3,4], dtype=np.float32)\n",
    "Y= np.array([2,4,6,8], dtype=np.float32)\n",
    "w=0.0\n",
    "\n",
    "# model prediction\n",
    "def forward(x):\n",
    "    return w*x\n",
    "\n",
    "# define the loss\n",
    "def loss(y, y_pred):\n",
    "    return ((y_pred-y)**2).mean() # this is for MSE(Mean squre error)loss\n",
    "\n",
    "#define the gradient\n",
    "# MSE= (1/N) *(w*x - y)**2\n",
    "# dJ/dw= (1/N) * 2x*(w*x - y)\n",
    "\n",
    "def gradient(x,y, y_pred):\n",
    "    return np.dot(2*x, y_pred-y)/len(x)\n",
    "\n",
    "print(f'Prediction before training: f(5)={forward(5):.3f}')\n",
    "\n",
    "#Training\n",
    "learning_rate=0.01\n",
    "n_iters=100\n",
    "for epoch in range(n_iters):\n",
    "    y_pred= forward(X)\n",
    "    l=loss(Y,y_pred)\n",
    "    dw= gradient(X,Y, y_pred)\n",
    "    w -= learning_rate *dw\n",
    "    if (epoch+1)%10 == 0:\n",
    "        print(f'epoch{epoch+1}: w = {w:.3f}, loss = {l:.8f}')\n",
    "    \n",
    "print(f'Prediction after training: f(5)={forward(5):.3f}')"
   ]
  },
  {
   "cell_type": "markdown",
   "id": "408be519",
   "metadata": {},
   "source": [
    "#### Make everything manually to predict the double of a number with automatic gradient"
   ]
  },
  {
   "cell_type": "code",
   "execution_count": 3,
   "id": "cd2a0ad6",
   "metadata": {},
   "outputs": [
    {
     "name": "stdout",
     "output_type": "stream",
     "text": [
      "Prediction before training: f(5)=0.000\n",
      "epoch10: w = 1.606, loss = 1.60939169\n",
      "epoch20: w = 1.922, loss = 0.06237914\n",
      "epoch30: w = 1.985, loss = 0.00241778\n",
      "epoch40: w = 1.997, loss = 0.00009371\n",
      "epoch50: w = 1.999, loss = 0.00000363\n",
      "epoch60: w = 2.000, loss = 0.00000014\n",
      "epoch70: w = 2.000, loss = 0.00000001\n",
      "epoch80: w = 2.000, loss = 0.00000000\n",
      "epoch90: w = 2.000, loss = 0.00000000\n",
      "epoch100: w = 2.000, loss = 0.00000000\n",
      "Prediction after training: f(5)=10.000\n"
     ]
    }
   ],
   "source": [
    "X= torch.tensor([1,2,3,4], dtype=torch.float32)\n",
    "Y= torch.tensor([2,4,6,8], dtype=torch.float32)\n",
    "w= torch.tensor(0.0, dtype=torch.float32, requires_grad=True)\n",
    "\n",
    "# model prediction\n",
    "def forward(x):\n",
    "    return w*x\n",
    "\n",
    "# define the loss\n",
    "def loss(y, y_pred):\n",
    "    return ((y_pred-y)**2).mean() # this is for MSE(Mean squre error)loss\n",
    "\n",
    "print(f'Prediction before training: f(5)={forward(5):.3f}')\n",
    "\n",
    "#Training\n",
    "learning_rate=0.01\n",
    "n_iters=100\n",
    "for epoch in range(n_iters):\n",
    "    #forward pass\n",
    "    y_pred= forward(X)\n",
    "    #loss calculation\n",
    "    l=loss(Y,y_pred)\n",
    "    #gradient/backward pass\n",
    "    l.backward()\n",
    "    #update weights\n",
    "    with torch.no_grad():\n",
    "        w -= learning_rate * w.grad\n",
    "    # zero gradient    \n",
    "    w.grad.zero_()    \n",
    "    \n",
    "    if (epoch+1)%10 == 0:\n",
    "        print(f'epoch{epoch+1}: w = {w:.3f}, loss = {l:.8f}')\n",
    "    \n",
    "print(f'Prediction after training: f(5)={forward(5):.3f}')"
   ]
  },
  {
   "cell_type": "markdown",
   "id": "9eb1b1df",
   "metadata": {},
   "source": [
    "#### Make everything automatically to predict the double of a number except the forward pass (Training pipeline)"
   ]
  },
  {
   "cell_type": "code",
   "execution_count": 4,
   "id": "f40f259f",
   "metadata": {
    "scrolled": true
   },
   "outputs": [
    {
     "name": "stdout",
     "output_type": "stream",
     "text": [
      "Prediction before training: f(5)=0.000\n",
      "epoch10: w = 1.606, loss = 1.60939169\n",
      "epoch20: w = 1.922, loss = 0.06237914\n",
      "epoch30: w = 1.985, loss = 0.00241778\n",
      "epoch40: w = 1.997, loss = 0.00009371\n",
      "epoch50: w = 1.999, loss = 0.00000363\n",
      "epoch60: w = 2.000, loss = 0.00000014\n",
      "epoch70: w = 2.000, loss = 0.00000001\n",
      "epoch80: w = 2.000, loss = 0.00000000\n",
      "epoch90: w = 2.000, loss = 0.00000000\n",
      "epoch100: w = 2.000, loss = 0.00000000\n",
      "Prediction after training: f(5)=10.000\n"
     ]
    }
   ],
   "source": [
    "X= torch.tensor([1,2,3,4], dtype=torch.float32)\n",
    "Y= torch.tensor([2,4,6,8], dtype=torch.float32)\n",
    "w= torch.tensor(0.0, dtype=torch.float32, requires_grad=True)\n",
    "\n",
    "# model prediction\n",
    "def forward(x):\n",
    "    return w*x\n",
    "\n",
    "print(f'Prediction before training: f(5)={forward(5):.3f}')\n",
    "\n",
    "#Training\n",
    "learning_rate=0.01\n",
    "n_iters=100\n",
    "\n",
    "loss = nn.MSELoss()\n",
    "optimizer= torch.optim.SGD([w], lr= learning_rate)\n",
    "\n",
    "for epoch in range(n_iters):\n",
    "    #forward pass\n",
    "    y_pred= forward(X)\n",
    "    #loss calculation\n",
    "    l=loss(Y,y_pred)\n",
    "    #gradient/backward pass\n",
    "    l.backward()\n",
    "    #update weights\n",
    "    optimizer.step()\n",
    "    # zero gradient    \n",
    "    optimizer.zero_grad()    \n",
    "    \n",
    "    if (epoch+1)%10 == 0:\n",
    "        print(f'epoch{epoch+1}: w = {w:.3f}, loss = {l:.8f}')\n",
    "    \n",
    "print(f'Prediction after training: f(5)={forward(5):.3f}')"
   ]
  },
  {
   "cell_type": "markdown",
   "id": "7b75704f",
   "metadata": {},
   "source": [
    "#### Make everything automatically to predict the double of a number(Training pipeline)"
   ]
  },
  {
   "cell_type": "code",
   "execution_count": 6,
   "id": "ad218210",
   "metadata": {},
   "outputs": [
    {
     "name": "stdout",
     "output_type": "stream",
     "text": [
      "4 1\n",
      "Prediction before training: f(5)=2.165\n",
      "epoch10: loss = 0.75904226\n",
      "epoch20: loss = 0.02050766\n",
      "epoch30: loss = 0.00134936\n",
      "epoch40: loss = 0.00080603\n",
      "epoch50: loss = 0.00074708\n",
      "epoch60: loss = 0.00070328\n",
      "epoch70: loss = 0.00066234\n",
      "epoch80: loss = 0.00062379\n",
      "epoch90: loss = 0.00058749\n",
      "epoch100: loss = 0.00055329\n",
      "Prediction after training: f(5)=10.040\n"
     ]
    }
   ],
   "source": [
    "X= torch.tensor([1,2,3,4], dtype=torch.float32)\n",
    "X= X.view(4,-1)\n",
    "Y= torch.tensor([2,4,6,8], dtype=torch.float32)\n",
    "Y= Y.view(4,-1)\n",
    "\n",
    "X_test= torch.tensor([5], dtype= torch.float32)\n",
    "n_samples, n_features= X.shape\n",
    "print(n_samples , n_features)\n",
    "\n",
    "input_size= n_features\n",
    "output_size= n_features\n",
    "\n",
    "model= nn.Linear(input_size,output_size)\n",
    "print(f'Prediction before training: f(5)={model(X_test).item():.3f}')\n",
    "\n",
    "#Training\n",
    "learning_rate=0.01\n",
    "n_iters=100\n",
    "\n",
    "loss = nn.MSELoss()\n",
    "optimizer= torch.optim.SGD(model.parameters(), lr= learning_rate)\n",
    "\n",
    "for epoch in range(n_iters):\n",
    "    #forward pass\n",
    "    y_pred= model(X)\n",
    "    #loss calculation\n",
    "    l=loss(Y,y_pred)\n",
    "    #gradient/backward pass\n",
    "    l.backward()\n",
    "    #update weights\n",
    "    optimizer.step()\n",
    "    # zero gradient    \n",
    "    optimizer.zero_grad()    \n",
    "    \n",
    "    if (epoch+1)%10 == 0:\n",
    "    \n",
    "        print(f'epoch{epoch+1}: loss = {l:.8f}')\n",
    "    \n",
    "print(f'Prediction after training: f(5)={model(X_test).item():.3f}')"
   ]
  }
 ],
 "metadata": {
  "kernelspec": {
   "display_name": "Python 3 (ipykernel)",
   "language": "python",
   "name": "python3"
  },
  "language_info": {
   "codemirror_mode": {
    "name": "ipython",
    "version": 3
   },
   "file_extension": ".py",
   "mimetype": "text/x-python",
   "name": "python",
   "nbconvert_exporter": "python",
   "pygments_lexer": "ipython3",
   "version": "3.9.16"
  }
 },
 "nbformat": 4,
 "nbformat_minor": 5
}
