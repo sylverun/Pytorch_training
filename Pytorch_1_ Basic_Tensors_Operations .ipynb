{
 "cells": [
  {
   "cell_type": "markdown",
   "id": "4b660d55",
   "metadata": {},
   "source": [
    "#### Import of the Packages"
   ]
  },
  {
   "cell_type": "code",
   "execution_count": 1,
   "id": "5acbff06",
   "metadata": {},
   "outputs": [
    {
     "data": {
      "text/html": [
       "<details>\n",
       "<summary>Click to view session information</summary>\n",
       "<pre>\n",
       "-----\n",
       "numpy               1.22.3\n",
       "session_info        1.0.0\n",
       "torch               2.0.0+cu117\n",
       "-----\n",
       "</pre>\n",
       "<details>\n",
       "<summary>Click to view modules imported as dependencies</summary>\n",
       "<pre>\n",
       "asttokens                   NA\n",
       "backcall                    0.2.0\n",
       "colorama                    0.4.6\n",
       "comm                        0.1.2\n",
       "cython_runtime              NA\n",
       "dateutil                    2.8.2\n",
       "debugpy                     1.5.1\n",
       "decorator                   5.1.1\n",
       "entrypoints                 0.4\n",
       "executing                   0.8.3\n",
       "ipykernel                   6.19.2\n",
       "ipython_genutils            0.2.0\n",
       "jedi                        0.18.1\n",
       "mpl_toolkits                NA\n",
       "mpmath                      1.2.1\n",
       "nt                          NA\n",
       "ntsecuritycon               NA\n",
       "nvfuser                     NA\n",
       "packaging                   23.0\n",
       "parso                       0.8.3\n",
       "pickleshare                 0.7.5\n",
       "pkg_resources               NA\n",
       "platformdirs                2.5.2\n",
       "prompt_toolkit              3.0.36\n",
       "psutil                      5.9.0\n",
       "pure_eval                   0.2.2\n",
       "pydev_ipython               NA\n",
       "pydevconsole                NA\n",
       "pydevd                      2.6.0\n",
       "pydevd_concurrency_analyser NA\n",
       "pydevd_file_utils           NA\n",
       "pydevd_plugins              NA\n",
       "pydevd_tracing              NA\n",
       "pygments                    2.11.2\n",
       "pythoncom                   NA\n",
       "pywintypes                  NA\n",
       "six                         1.16.0\n",
       "stack_data                  0.2.0\n",
       "sympy                       1.11.1\n",
       "tornado                     6.2\n",
       "tqdm                        4.65.0\n",
       "traitlets                   5.7.1\n",
       "typing_extensions           NA\n",
       "wcwidth                     0.2.5\n",
       "win32api                    NA\n",
       "win32com                    NA\n",
       "win32security               NA\n",
       "zmq                         23.2.0\n",
       "</pre>\n",
       "</details> <!-- seems like this ends pre, so might as well be explicit -->\n",
       "<pre>\n",
       "-----\n",
       "IPython             8.10.0\n",
       "jupyter_client      7.4.9\n",
       "jupyter_core        5.2.0\n",
       "notebook            6.5.2\n",
       "-----\n",
       "Python 3.9.16 (main, Mar  8 2023, 10:39:24) [MSC v.1916 64 bit (AMD64)]\n",
       "Windows-10-10.0.22621-SP0\n",
       "-----\n",
       "Session information updated at 2023-05-09 10:41\n",
       "</pre>\n",
       "</details>"
      ],
      "text/plain": [
       "<IPython.core.display.HTML object>"
      ]
     },
     "execution_count": 1,
     "metadata": {},
     "output_type": "execute_result"
    }
   ],
   "source": [
    "import torch\n",
    "import numpy as np\n",
    "import session_info\n",
    "session_info.show()"
   ]
  },
  {
   "cell_type": "markdown",
   "id": "af2babc6",
   "metadata": {},
   "source": [
    "##### Verify if GPU can be used"
   ]
  },
  {
   "cell_type": "code",
   "execution_count": 2,
   "id": "3bf2a40e",
   "metadata": {},
   "outputs": [
    {
     "data": {
      "text/plain": [
       "True"
      ]
     },
     "execution_count": 2,
     "metadata": {},
     "output_type": "execute_result"
    }
   ],
   "source": [
    "torch.cuda.is_available()"
   ]
  },
  {
   "cell_type": "markdown",
   "id": "fb2ae569",
   "metadata": {},
   "source": [
    "##### Create empty tensor"
   ]
  },
  {
   "cell_type": "code",
   "execution_count": 3,
   "id": "1ad44864",
   "metadata": {},
   "outputs": [
    {
     "name": "stdout",
     "output_type": "stream",
     "text": [
      "tensor([[1.0286e-38, 8.9081e-39],\n",
      "        [8.9082e-39, 7.5306e-39],\n",
      "        [8.9082e-39, 9.6429e-39]])\n"
     ]
    }
   ],
   "source": [
    "x= torch.empty(3,2)\n",
    "print(x)"
   ]
  },
  {
   "cell_type": "markdown",
   "id": "f15832d1",
   "metadata": {},
   "source": [
    "##### Create random tensor"
   ]
  },
  {
   "cell_type": "code",
   "execution_count": 4,
   "id": "e36b315a",
   "metadata": {},
   "outputs": [
    {
     "name": "stdout",
     "output_type": "stream",
     "text": [
      "tensor([[0.6600, 0.9830],\n",
      "        [0.2853, 0.5928]])\n"
     ]
    }
   ],
   "source": [
    "y= torch.rand(2,2)\n",
    "print(y)"
   ]
  },
  {
   "cell_type": "markdown",
   "id": "6653ad98",
   "metadata": {},
   "source": [
    "##### Create tensor full of zeros /ones"
   ]
  },
  {
   "cell_type": "code",
   "execution_count": 5,
   "id": "1090adec",
   "metadata": {},
   "outputs": [
    {
     "name": "stdout",
     "output_type": "stream",
     "text": [
      "tensor([[[0., 0., 0., 0., 0., 0.],\n",
      "         [0., 0., 0., 0., 0., 0.],\n",
      "         [0., 0., 0., 0., 0., 0.]],\n",
      "\n",
      "        [[0., 0., 0., 0., 0., 0.],\n",
      "         [0., 0., 0., 0., 0., 0.],\n",
      "         [0., 0., 0., 0., 0., 0.]]])\n",
      "tensor([[[1, 1, 1]],\n",
      "\n",
      "        [[1, 1, 1]],\n",
      "\n",
      "        [[1, 1, 1]]], dtype=torch.int32)\n"
     ]
    }
   ],
   "source": [
    "x= torch.zeros(2,3,6)\n",
    "print(x)\n",
    "y=torch.ones(3,1,3, dtype= torch.int)\n",
    "print(y)"
   ]
  },
  {
   "cell_type": "markdown",
   "id": "c8401d3b",
   "metadata": {},
   "source": [
    "##### Operation on tensors"
   ]
  },
  {
   "cell_type": "code",
   "execution_count": 6,
   "id": "7b27c126",
   "metadata": {},
   "outputs": [
    {
     "name": "stdout",
     "output_type": "stream",
     "text": [
      "tensor([[0.9779, 1.2583],\n",
      "        [1.3583, 0.7016]])\n"
     ]
    }
   ],
   "source": [
    "x= torch.rand(2,2)\n",
    "y= torch.rand(2,2)\n",
    "\n",
    "z= x+y\n",
    "#is similar to\n",
    "z= torch.add(x,y)\n",
    "print(z)"
   ]
  },
  {
   "cell_type": "code",
   "execution_count": 7,
   "id": "5b560271",
   "metadata": {},
   "outputs": [
    {
     "name": "stdout",
     "output_type": "stream",
     "text": [
      "tensor([[0.9779, 1.2583],\n",
      "        [1.3583, 0.7016]])\n"
     ]
    },
    {
     "data": {
      "text/plain": [
       "tensor([[0.5584, 0.9059],\n",
       "        [1.0612, 0.4524]])"
      ]
     },
     "execution_count": 7,
     "metadata": {},
     "output_type": "execute_result"
    }
   ],
   "source": [
    "y.add_(x) # Note: In Pytorch, function with underscore correspond to an inplace function\n",
    "print(y)\n",
    "y.mul_(x)"
   ]
  },
  {
   "cell_type": "markdown",
   "id": "6c86c391",
   "metadata": {},
   "source": [
    "##### Select columns/rows of tensors"
   ]
  },
  {
   "cell_type": "code",
   "execution_count": 8,
   "id": "9a8bd8bc",
   "metadata": {},
   "outputs": [
    {
     "name": "stdout",
     "output_type": "stream",
     "text": [
      "tensor([[0.1081, 0.7926, 0.8133],\n",
      "        [0.3318, 0.1130, 0.6132],\n",
      "        [0.4029, 0.8732, 0.6838],\n",
      "        [0.4997, 0.1028, 0.0939],\n",
      "        [0.4707, 0.9919, 0.3885]])\n",
      "tensor([0.1081, 0.3318, 0.4029, 0.4997, 0.4707])\n",
      "tensor([0.3318, 0.1130, 0.6132])\n",
      "tensor(0.6838)\n",
      "0.6837839484214783\n"
     ]
    }
   ],
   "source": [
    "x= torch.rand(5,3)\n",
    "print(x)\n",
    "print(x[:,0]) # selection of the first column\n",
    "print(x[1,:]) # selection of the second row \n",
    "print(x[2,2]) # selection of one element\n",
    "print(x[2,2].item()) # get the value (only on one element)"
   ]
  },
  {
   "cell_type": "markdown",
   "id": "461dada8",
   "metadata": {},
   "source": [
    "#### Reshape tensor"
   ]
  },
  {
   "cell_type": "code",
   "execution_count": 9,
   "id": "f2da15c6",
   "metadata": {},
   "outputs": [
    {
     "name": "stdout",
     "output_type": "stream",
     "text": [
      "tensor([0.8857, 0.2254, 0.1286, 0.9790, 0.2509, 0.8937, 0.5554, 0.7188, 0.6950,\n",
      "        0.3310, 0.5618, 0.1343, 0.6149, 0.7093, 0.0224, 0.3099, 0.3061, 0.9688,\n",
      "        0.8415, 0.3088])\n",
      "tensor([[0.8857, 0.2254],\n",
      "        [0.1286, 0.9790],\n",
      "        [0.2509, 0.8937],\n",
      "        [0.5554, 0.7188],\n",
      "        [0.6950, 0.3310],\n",
      "        [0.5618, 0.1343],\n",
      "        [0.6149, 0.7093],\n",
      "        [0.0224, 0.3099],\n",
      "        [0.3061, 0.9688],\n",
      "        [0.8415, 0.3088]])\n"
     ]
    }
   ],
   "source": [
    "x= torch.rand(4,5)\n",
    "y=x.view(20) # number of element must be the same than x\n",
    "z=x.view(-1,2) # -1 attribute the dimension in function of the other given values\n",
    "print(y)\n",
    "print(z)"
   ]
  },
  {
   "cell_type": "markdown",
   "id": "de6d39ce",
   "metadata": {},
   "source": [
    "#### Tranform np.array into tensor and vice-versa"
   ]
  },
  {
   "cell_type": "code",
   "execution_count": 10,
   "id": "0cb800f1",
   "metadata": {},
   "outputs": [
    {
     "name": "stdout",
     "output_type": "stream",
     "text": [
      "[[0. 0. 0.]\n",
      " [0. 0. 0.]]\n"
     ]
    }
   ],
   "source": [
    "x= torch.zeros(2,3)\n",
    "y=x.numpy() # note that x and y share the same memory location and a modificationof y will change x and vice-versa\n",
    "print(y)"
   ]
  },
  {
   "cell_type": "code",
   "execution_count": 11,
   "id": "ec9ea5d6",
   "metadata": {},
   "outputs": [
    {
     "name": "stdout",
     "output_type": "stream",
     "text": [
      "tensor([1, 1, 1, 1], dtype=torch.int32)\n"
     ]
    }
   ],
   "source": [
    "a= np.ones(4)\n",
    "b= torch.from_numpy(a.astype(int))# astype allowing to change the dtype\n",
    "print(b)"
   ]
  },
  {
   "cell_type": "markdown",
   "id": "b30f245d",
   "metadata": {},
   "source": [
    "##### Transfer to the GPU for calculation"
   ]
  },
  {
   "cell_type": "code",
   "execution_count": 12,
   "id": "fbb909e8",
   "metadata": {},
   "outputs": [
    {
     "name": "stdout",
     "output_type": "stream",
     "text": [
      "tensor([2., 2., 2., 2.])\n"
     ]
    }
   ],
   "source": [
    "device =torch.device(\"cuda\")\n",
    "x= torch.ones(4)\n",
    "y= torch.ones(4) # x and y are created on the CPU\n",
    "x=x.to(device)\n",
    "y=y.to(device) # x and y are transfer to the GPU\n",
    "z= x+y # operation take place on the GPU\n",
    "z=z.to(\"cpu\")\n",
    "print(z)"
   ]
  },
  {
   "cell_type": "markdown",
   "id": "79975bf4",
   "metadata": {},
   "source": [
    "##### Create a tensor that can be adjusted later during optimisation/Training"
   ]
  },
  {
   "cell_type": "code",
   "execution_count": 13,
   "id": "f241f01a",
   "metadata": {},
   "outputs": [
    {
     "name": "stdout",
     "output_type": "stream",
     "text": [
      "tensor([1., 1., 1., 1., 1.], requires_grad=True)\n"
     ]
    }
   ],
   "source": [
    "x= torch.ones(5, requires_grad= True)\n",
    "print(x)"
   ]
  }
 ],
 "metadata": {
  "kernelspec": {
   "display_name": "Python 3 (ipykernel)",
   "language": "python",
   "name": "python3"
  },
  "language_info": {
   "codemirror_mode": {
    "name": "ipython",
    "version": 3
   },
   "file_extension": ".py",
   "mimetype": "text/x-python",
   "name": "python",
   "nbconvert_exporter": "python",
   "pygments_lexer": "ipython3",
   "version": "3.9.16"
  }
 },
 "nbformat": 4,
 "nbformat_minor": 5
}
