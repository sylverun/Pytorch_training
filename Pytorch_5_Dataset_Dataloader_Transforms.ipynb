{
 "cells": [
  {
   "cell_type": "markdown",
   "id": "77732b97",
   "metadata": {},
   "source": [
    "#### Import of the Packages"
   ]
  },
  {
   "cell_type": "code",
   "execution_count": 1,
   "id": "24106ee1",
   "metadata": {},
   "outputs": [
    {
     "data": {
      "text/html": [
       "<details>\n",
       "<summary>Click to view session information</summary>\n",
       "<pre>\n",
       "-----\n",
       "numpy               1.22.3\n",
       "session_info        1.0.0\n",
       "torch               2.0.0+cu117\n",
       "torchvision         0.15.1+cu117\n",
       "-----\n",
       "</pre>\n",
       "<details>\n",
       "<summary>Click to view modules imported as dependencies</summary>\n",
       "<pre>\n",
       "PIL                         9.4.0\n",
       "asttokens                   NA\n",
       "backcall                    0.2.0\n",
       "certifi                     2022.12.07\n",
       "cffi                        1.15.1\n",
       "charset_normalizer          3.1.0\n",
       "colorama                    0.4.6\n",
       "comm                        0.1.2\n",
       "cython_runtime              NA\n",
       "dateutil                    2.8.2\n",
       "debugpy                     1.5.1\n",
       "decorator                   5.1.1\n",
       "defusedxml                  0.7.1\n",
       "entrypoints                 0.4\n",
       "executing                   0.8.3\n",
       "idna                        3.4\n",
       "ipykernel                   6.19.2\n",
       "ipython_genutils            0.2.0\n",
       "jedi                        0.18.1\n",
       "mpl_toolkits                NA\n",
       "mpmath                      1.2.1\n",
       "nt                          NA\n",
       "ntsecuritycon               NA\n",
       "nvfuser                     NA\n",
       "packaging                   23.0\n",
       "parso                       0.8.3\n",
       "pickleshare                 0.7.5\n",
       "pkg_resources               NA\n",
       "platformdirs                2.5.2\n",
       "prompt_toolkit              3.0.36\n",
       "psutil                      5.9.0\n",
       "pure_eval                   0.2.2\n",
       "pydev_ipython               NA\n",
       "pydevconsole                NA\n",
       "pydevd                      2.6.0\n",
       "pydevd_concurrency_analyser NA\n",
       "pydevd_file_utils           NA\n",
       "pydevd_plugins              NA\n",
       "pydevd_tracing              NA\n",
       "pygments                    2.11.2\n",
       "pythoncom                   NA\n",
       "pywintypes                  NA\n",
       "requests                    2.28.2\n",
       "six                         1.16.0\n",
       "stack_data                  0.2.0\n",
       "sympy                       1.11.1\n",
       "tornado                     6.2\n",
       "tqdm                        4.65.0\n",
       "traitlets                   5.7.1\n",
       "typing_extensions           NA\n",
       "urllib3                     1.26.15\n",
       "wcwidth                     0.2.5\n",
       "win32api                    NA\n",
       "win32com                    NA\n",
       "win32security               NA\n",
       "zmq                         23.2.0\n",
       "</pre>\n",
       "</details> <!-- seems like this ends pre, so might as well be explicit -->\n",
       "<pre>\n",
       "-----\n",
       "IPython             8.10.0\n",
       "jupyter_client      7.4.9\n",
       "jupyter_core        5.2.0\n",
       "notebook            6.5.2\n",
       "-----\n",
       "Python 3.9.16 (main, Mar  8 2023, 10:39:24) [MSC v.1916 64 bit (AMD64)]\n",
       "Windows-10-10.0.22621-SP0\n",
       "-----\n",
       "Session information updated at 2023-05-09 10:48\n",
       "</pre>\n",
       "</details>"
      ],
      "text/plain": [
       "<IPython.core.display.HTML object>"
      ]
     },
     "execution_count": 1,
     "metadata": {},
     "output_type": "execute_result"
    }
   ],
   "source": [
    "import torch\n",
    "import torchvision\n",
    "import numpy as np\n",
    "import math\n",
    "from torch.utils.data import Dataset,DataLoader\n",
    "import session_info\n",
    "\n",
    "session_info.show()"
   ]
  },
  {
   "cell_type": "markdown",
   "id": "3ca455fd",
   "metadata": {},
   "source": [
    "#### Creation of a Dataset"
   ]
  },
  {
   "cell_type": "code",
   "execution_count": 2,
   "id": "4cf33d2c",
   "metadata": {},
   "outputs": [],
   "source": [
    "url='https://gist.githubusercontent.com/tijptjik/9408623/raw/b237fa5848349a14a14e5d4107dc7897c21951f5/wine.csv'\n",
    "xy=np.loadtxt(url, delimiter=',', dtype='float32', skiprows=1)"
   ]
  },
  {
   "cell_type": "code",
   "execution_count": 3,
   "id": "7a177fe4",
   "metadata": {},
   "outputs": [],
   "source": [
    "class DatasetWine(Dataset):\n",
    "    def __init__(self):\n",
    "        #data loading\n",
    "        xy=np.loadtxt(url, delimiter=',', dtype='float32', skiprows=1)\n",
    "        self.x=torch.from_numpy(xy[:,1:])\n",
    "        self.y=torch.from_numpy(xy[:,[0]])\n",
    "        self.n_sample= xy.shape[0]\n",
    "        \n",
    "    def __getitem__(self,index):\n",
    "        return self.x[index] , self.y[index]\n",
    "    \n",
    "    def __len__(self):\n",
    "        return self.n_sample\n",
    "\n",
    "dataset=DatasetWine()        "
   ]
  },
  {
   "cell_type": "code",
   "execution_count": 4,
   "id": "5ae476d7",
   "metadata": {},
   "outputs": [
    {
     "name": "stdout",
     "output_type": "stream",
     "text": [
      "tensor([1.4230e+01, 1.7100e+00, 2.4300e+00, 1.5600e+01, 1.2700e+02, 2.8000e+00,\n",
      "        3.0600e+00, 2.8000e-01, 2.2900e+00, 5.6400e+00, 1.0400e+00, 3.9200e+00,\n",
      "        1.0650e+03]) tensor([1.])\n"
     ]
    }
   ],
   "source": [
    "first_data= dataset[0]\n",
    "feature, target =first_data\n",
    "print(feature, target)"
   ]
  },
  {
   "cell_type": "code",
   "execution_count": 5,
   "id": "4063d6ce",
   "metadata": {},
   "outputs": [],
   "source": [
    "dataloader= DataLoader(dataset=dataset,batch_size=10,shuffle=True)"
   ]
  },
  {
   "cell_type": "code",
   "execution_count": 6,
   "id": "a1d065bb",
   "metadata": {},
   "outputs": [
    {
     "name": "stdout",
     "output_type": "stream",
     "text": [
      "tensor([[1.3710e+01, 1.8600e+00, 2.3600e+00, 1.6600e+01, 1.0100e+02, 2.6100e+00,\n",
      "         2.8800e+00, 2.7000e-01, 1.6900e+00, 3.8000e+00, 1.1100e+00, 4.0000e+00,\n",
      "         1.0350e+03],\n",
      "        [1.3580e+01, 2.5800e+00, 2.6900e+00, 2.4500e+01, 1.0500e+02, 1.5500e+00,\n",
      "         8.4000e-01, 3.9000e-01, 1.5400e+00, 8.6600e+00, 7.4000e-01, 1.8000e+00,\n",
      "         7.5000e+02],\n",
      "        [1.4230e+01, 1.7100e+00, 2.4300e+00, 1.5600e+01, 1.2700e+02, 2.8000e+00,\n",
      "         3.0600e+00, 2.8000e-01, 2.2900e+00, 5.6400e+00, 1.0400e+00, 3.9200e+00,\n",
      "         1.0650e+03],\n",
      "        [1.2080e+01, 1.3900e+00, 2.5000e+00, 2.2500e+01, 8.4000e+01, 2.5600e+00,\n",
      "         2.2900e+00, 4.3000e-01, 1.0400e+00, 2.9000e+00, 9.3000e-01, 3.1900e+00,\n",
      "         3.8500e+02],\n",
      "        [1.3830e+01, 1.6500e+00, 2.6000e+00, 1.7200e+01, 9.4000e+01, 2.4500e+00,\n",
      "         2.9900e+00, 2.2000e-01, 2.2900e+00, 5.6000e+00, 1.2400e+00, 3.3700e+00,\n",
      "         1.2650e+03],\n",
      "        [1.2080e+01, 2.0800e+00, 1.7000e+00, 1.7500e+01, 9.7000e+01, 2.2300e+00,\n",
      "         2.1700e+00, 2.6000e-01, 1.4000e+00, 3.3000e+00, 1.2700e+00, 2.9600e+00,\n",
      "         7.1000e+02],\n",
      "        [1.1870e+01, 4.3100e+00, 2.3900e+00, 2.1000e+01, 8.2000e+01, 2.8600e+00,\n",
      "         3.0300e+00, 2.1000e-01, 2.9100e+00, 2.8000e+00, 7.5000e-01, 3.6400e+00,\n",
      "         3.8000e+02],\n",
      "        [1.2420e+01, 4.4300e+00, 2.7300e+00, 2.6500e+01, 1.0200e+02, 2.2000e+00,\n",
      "         2.1300e+00, 4.3000e-01, 1.7100e+00, 2.0800e+00, 9.2000e-01, 3.1200e+00,\n",
      "         3.6500e+02],\n",
      "        [1.2930e+01, 3.8000e+00, 2.6500e+00, 1.8600e+01, 1.0200e+02, 2.4100e+00,\n",
      "         2.4100e+00, 2.5000e-01, 1.9800e+00, 4.5000e+00, 1.0300e+00, 3.5200e+00,\n",
      "         7.7000e+02],\n",
      "        [1.1840e+01, 2.8900e+00, 2.2300e+00, 1.8000e+01, 1.1200e+02, 1.7200e+00,\n",
      "         1.3200e+00, 4.3000e-01, 9.5000e-01, 2.6500e+00, 9.6000e-01, 2.5200e+00,\n",
      "         5.0000e+02]]) tensor([[1.],\n",
      "        [3.],\n",
      "        [1.],\n",
      "        [2.],\n",
      "        [1.],\n",
      "        [2.],\n",
      "        [2.],\n",
      "        [2.],\n",
      "        [1.],\n",
      "        [2.]])\n"
     ]
    }
   ],
   "source": [
    "dataiter= iter(dataloader)\n",
    "data= next(dataiter)\n",
    "features, labels = data\n",
    "print(features, labels)"
   ]
  },
  {
   "cell_type": "markdown",
   "id": "6c557463",
   "metadata": {},
   "source": [
    "#### Insert a transform method to the data"
   ]
  },
  {
   "cell_type": "code",
   "execution_count": 7,
   "id": "8e0f653e",
   "metadata": {},
   "outputs": [
    {
     "name": "stdout",
     "output_type": "stream",
     "text": [
      "tensor([1.3160e+01, 2.3600e+00, 2.6700e+00, 1.8600e+01, 1.0100e+02, 2.8000e+00,\n",
      "        3.2400e+00, 3.0000e-01, 2.8100e+00, 5.6800e+00, 1.0300e+00, 3.1700e+00,\n",
      "        1.1850e+03]) tensor([1.])\n"
     ]
    }
   ],
   "source": [
    "class DatasetWine_2(Dataset):\n",
    "    def __init__(self, transform=None): # transform is fix to None by default\n",
    "        #data loading\n",
    "        xy=np.loadtxt(url, delimiter=',', dtype='float32', skiprows=1)\n",
    "        self.x=xy[:,1:]\n",
    "        self.y=xy[:,[0]] # we gonna do the transformation to Tensor with a transform\n",
    "        self.n_sample= xy.shape[0]\n",
    "        self.transform= transform # we initialize the transform with the function when we call DatasetWine_2 \n",
    "        \n",
    "        \n",
    "    def __getitem__(self,index):\n",
    "        \n",
    "        sample = self.x[index], self.y[index]\n",
    "        \n",
    "        if self.transform:\n",
    "            sample= self.transform(sample)# we apply the transform on the data\n",
    "            \n",
    "        return sample\n",
    "    \n",
    "    def __len__(self):\n",
    "        return self.n_sample\n",
    "    \n",
    "class ToTensor:\n",
    "    def __call__(self, sample):\n",
    "        inputs, targets = sample\n",
    "        return torch.from_numpy(inputs), torch.from_numpy(targets)\n",
    "    \n",
    "    \n",
    "dataset=DatasetWine_2(transform= ToTensor())\n",
    "first_data=  dataset[2]\n",
    "feature, label= first_data\n",
    "print(feature, label)"
   ]
  },
  {
   "cell_type": "code",
   "execution_count": 8,
   "id": "1a27f821",
   "metadata": {
    "scrolled": true
   },
   "outputs": [
    {
     "name": "stdout",
     "output_type": "stream",
     "text": [
      "[2.632e+01 4.720e+00 5.340e+00 3.720e+01 2.020e+02 5.600e+00 6.480e+00\n",
      " 6.000e-01 5.620e+00 1.136e+01 2.060e+00 6.340e+00 2.370e+03] [1.]\n"
     ]
    }
   ],
   "source": [
    "class MulTransf:\n",
    "    def __init__(self, factor):\n",
    "        self.factor=factor\n",
    "    def __call__(self,sample):\n",
    "        inputs, target = sample\n",
    "        inputs *= self.factor\n",
    "        return inputs, target\n",
    "dataset=DatasetWine_2(transform= MulTransf(2))\n",
    "first_data=  dataset[2]\n",
    "feature, label= first_data\n",
    "print(feature, label) # here we have numpy array at the end because we don't apply transform to tensor"
   ]
  },
  {
   "cell_type": "markdown",
   "id": "378bf863",
   "metadata": {},
   "source": [
    "#### Composed Transforms"
   ]
  },
  {
   "cell_type": "code",
   "execution_count": 9,
   "id": "e87d6373",
   "metadata": {},
   "outputs": [
    {
     "name": "stdout",
     "output_type": "stream",
     "text": [
      "tensor([3.9480e+01, 7.0800e+00, 8.0100e+00, 5.5800e+01, 3.0300e+02, 8.4000e+00,\n",
      "        9.7200e+00, 9.0000e-01, 8.4300e+00, 1.7040e+01, 3.0900e+00, 9.5100e+00,\n",
      "        3.5550e+03]) tensor([1.])\n"
     ]
    }
   ],
   "source": [
    "composed= torchvision.transforms.Compose([ToTensor(), MulTransf(3)])\n",
    "dataset=DatasetWine_2(transform= composed)\n",
    "first_data=  dataset[2]\n",
    "feature, label= first_data\n",
    "print(feature, label)"
   ]
  }
 ],
 "metadata": {
  "kernelspec": {
   "display_name": "Python 3 (ipykernel)",
   "language": "python",
   "name": "python3"
  },
  "language_info": {
   "codemirror_mode": {
    "name": "ipython",
    "version": 3
   },
   "file_extension": ".py",
   "mimetype": "text/x-python",
   "name": "python",
   "nbconvert_exporter": "python",
   "pygments_lexer": "ipython3",
   "version": "3.9.16"
  }
 },
 "nbformat": 4,
 "nbformat_minor": 5
}
